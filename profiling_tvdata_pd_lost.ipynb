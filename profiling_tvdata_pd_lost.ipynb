{
 "metadata": {
  "name": "",
  "signature": "sha256:70632f328aecbdd9f6abb91a77ee42632cbe16d9d2ee3648fe1fb4a5fad0a5e5"
 },
 "nbformat": 3,
 "nbformat_minor": 0,
 "worksheets": [
  {
   "cells": [
    {
     "cell_type": "markdown",
     "metadata": {},
     "source": [
      "Timing At the command line:\n",
      "Source: http://nbviewer.ipython.org/gist/jiffyclub/3062428\n",
      "\n",
      "\n",
      "Timing and Profiling in IPython Source: http://pynash.org/2013/03/06/timing-and-profiling.html"
     ]
    },
    {
     "cell_type": "code",
     "collapsed": false,
     "input": [
      "#\u4f7f\u7528 notebook %prun magic \u5750\u6027\u80fd\u5206\u6790\n",
      "from time import sleep\n",
      "def foo(): sleep(1)\n",
      "def bar(): sleep(2)\n",
      "def baz(): foo(), bar()\n",
      "    \n",
      "%prun baz()"
     ],
     "language": "python",
     "metadata": {},
     "outputs": [
      {
       "output_type": "stream",
       "stream": "stdout",
       "text": [
        " "
       ]
      }
     ],
     "prompt_number": 26
    },
    {
     "cell_type": "code",
     "collapsed": false,
     "input": [
      "#python \u6587\u4ef6\u8fd0\u884cprofile\uff0c\u5e76\u6536\u96c6 .prof\u6587\u4ef6\n",
      "!python -m cProfile  -o slow_functions.prof tvdatainit_pd.py tvdatas/20140217_50k.csv"
     ],
     "language": "python",
     "metadata": {},
     "outputs": [
      {
       "output_type": "stream",
       "stream": "stdout",
       "text": [
        "Code started at time: 2014-11-13 15:22:56\n",
        "Read_channeldatas started at time: 2014-11-13 15:22:56\n",
        "Init_timelimit started at time: 2014-11-13 15:23:10\n",
        "Find_value_userdatas started at time: 2014-11-13 15:23:10\n",
        "Read_userdatas started at time: 2014-11-13 15:23:10\n",
        "Record_number_of_ads started at time: 2014-11-13 15:23:11\n",
        "debug: different_usernum= 5422\n",
        "debug: userad_call= 37161\n",
        "create_userad_table started at time: 2014-11-13 15:25:23\n",
        "Code ended at time: 2014-11-13 15:25:23\n",
        "Code dealing time is: 146 s\n"
       ]
      },
      {
       "output_type": "stream",
       "stream": "stderr",
       "text": [
        "C:\\Users\\LosT\\AppData\\Local\\Enthought\\Canopy32\\User\\lib\\site-packages\\pandas\\io\\excel.py:626: UserWarning: Installed openpyxl is not supported at this time. Use >=1.6.1 and <2.0.0.\n",
        "  .format(openpyxl_compat.start_ver, openpyxl_compat.stop_ver))\n"
       ]
      }
     ],
     "prompt_number": 2
    },
    {
     "cell_type": "code",
     "collapsed": false,
     "input": [],
     "language": "python",
     "metadata": {},
     "outputs": []
    },
    {
     "cell_type": "code",
     "collapsed": false,
     "input": [
      "#\u6839\u636e .prof\u6587\u4ef6\u8fdb\u884c\u6392\u5e8f\u5206\u6790\n",
      "import pstats\n",
      "stats = pstats.Stats('slow_functions.prof')\n",
      "# stats.print_stats()\n",
      "stats.sort_stats('cumulative').print_stats(20)  #\u663e\u793a\u8fd0\u884c\u6700\u8017\u65f6\u768420\u4e2a\u7a0b\u5e8f"
     ],
     "language": "python",
     "metadata": {},
     "outputs": [
      {
       "output_type": "stream",
       "stream": "stdout",
       "text": [
        "Mon Nov 10 15:12:05 2014    slow_functions.prof\n",
        "\n",
        "         13746599 function calls (13740864 primitive calls) in 14.481 seconds\n",
        "\n",
        "   Ordered by: cumulative time\n",
        "   List reduced from 2523 to 20 due to restriction <20>\n",
        "\n",
        "   ncalls  tottime  percall  cumtime  percall filename:lineno(function)\n",
        "        1    0.003    0.003   14.483   14.483 tvdatainit_pd.py:4(<module>)\n",
        "        1    0.001    0.001   14.077   14.077 tvdatainit_pd.py:228(deal_file)\n",
        "        1    0.477    0.477   13.645   13.645 tvdatainit_pd.py:169(record_number_of_ads)\n",
        "    37161    0.328    0.000    7.694    0.000 tvdatainit_pd.py:109(cut)\n",
        "   375270    2.960    0.000    6.112    0.000 E:\\Program\\Enthought\\Canopy\\App\\appdata\\canopy-1.4.1.1975.win-x86_64\\lib\\_strptime.py:295(_strptime)\n",
        "   111483    0.213    0.000    4.156    0.000 TimeDeal.py:9(str2seconds)\n",
        "    37161    0.661    0.000    4.021    0.000 tvdatainit_pd.py:128(valueable_ad)\n",
        "   222966    0.390    0.000    3.943    0.000 {built-in method strptime}\n",
        "   152304    0.148    0.000    2.810    0.000 {time.strptime}\n",
        "   152304    0.103    0.000    2.662    0.000 E:\\Program\\Enthought\\Canopy\\App\\appdata\\canopy-1.4.1.1975.win-x86_64\\lib\\_strptime.py:466(_strptime_time)\n",
        "   202957    0.333    0.000    2.258    0.000 E:\\Profile\\canopy\\User\\lib\\site-packages\\pandas\\core\\series.py:477(__getitem__)\n",
        "   375272    0.188    0.000    2.223    0.000 E:\\Program\\Enthought\\Canopy\\App\\appdata\\canopy-1.4.1.1975.win-x86_64\\lib\\_strptime.py:27(_getlang)\n",
        "   375274    0.252    0.000    2.036    0.000 E:\\Program\\Enthought\\Canopy\\App\\appdata\\canopy-1.4.1.1975.win-x86_64\\lib\\locale.py:514(getlocale)\n",
        "   202957    0.287    0.000    1.614    0.000 E:\\Profile\\canopy\\User\\lib\\site-packages\\pandas\\core\\index.py:1158(get_value)\n",
        "    37161    0.107    0.000    1.559    0.000 TimeDeal.py:19(get_weekday)\n",
        "    37161    0.103    0.000    1.549    0.000 TimeDeal.py:30(get_time)\n",
        "   375274    0.205    0.000    1.469    0.000 E:\\Program\\Enthought\\Canopy\\App\\appdata\\canopy-1.4.1.1975.win-x86_64\\lib\\locale.py:415(_parse_localename)\n",
        "   375399    0.850    0.000    1.265    0.000 E:\\Program\\Enthought\\Canopy\\App\\appdata\\canopy-1.4.1.1975.win-x86_64\\lib\\locale.py:347(normalize)\n",
        "   203881    0.396    0.000    1.033    0.000 E:\\Profile\\canopy\\User\\lib\\site-packages\\pandas\\core\\frame.py:1661(__getitem__)\n",
        "   406612    0.282    0.000    0.838    0.000 {pandas.lib.values_from_object}\n",
        "\n",
        "\n"
       ]
      },
      {
       "metadata": {},
       "output_type": "pyout",
       "prompt_number": 1,
       "text": [
        "<pstats.Stats instance at 0x0000000003CF8348>"
       ]
      }
     ],
     "prompt_number": 1
    },
    {
     "cell_type": "code",
     "collapsed": false,
     "input": [
      "#\u6839\u636e .prof\u6587\u4ef6\u8fdb\u884c\u6392\u5e8f\u5206\u6790\n",
      "import pstats\n",
      "stats = pstats.Stats('slow_functions.prof')\n",
      "# stats.print_stats()\n",
      "stats.sort_stats('cumulative').print_stats(20)  #\u663e\u793a\u8fd0\u884c\u6700\u8017\u65f6\u768420\u4e2a\u7a0b\u5e8f"
     ],
     "language": "python",
     "metadata": {},
     "outputs": [
      {
       "output_type": "stream",
       "stream": "stdout",
       "text": [
        "Thu Nov 13 15:25:23 2014    slow_functions.prof\n",
        "\n",
        "         106981557 function calls (106925266 primitive calls) in 147.655 seconds\n",
        "\n",
        "   Ordered by: cumulative time\n",
        "   List reduced from 2323 to 20 due to restriction <20>\n",
        "\n",
        "   ncalls  tottime  percall  cumtime  percall filename:lineno(function)\n",
        "        1    0.010    0.010  147.657  147.657 tvdatainit_pd.py:4(<module>)\n",
        "        1    0.002    0.002  146.794  146.794 tvdatainit_pd.py:251(deal_file)\n",
        "        1    0.569    0.569  132.647  132.647 tvdatainit_pd.py:191(record_number_of_ads)\n",
        "    37161   12.326    0.000  127.246    0.003 tvdatainit_pd.py:151(valueable_ad)\n",
        "  4964613   13.268    0.000   77.800    0.000 C:\\Users\\LosT\\AppData\\Local\\Enthought\\Canopy32\\User\\lib\\site-packages\\pandas\\core\\series.py:477(__getitem__)\n",
        "  4964613   11.954    0.000   56.777    0.000 C:\\Users\\LosT\\AppData\\Local\\Enthought\\Canopy32\\User\\lib\\site-packages\\pandas\\core\\index.py:1158(get_value)\n",
        "  4979630   14.562    0.000   38.570    0.000 C:\\Users\\LosT\\AppData\\Local\\Enthought\\Canopy32\\User\\lib\\site-packages\\pandas\\core\\frame.py:1661(__getitem__)\n",
        "  9953059   11.974    0.000   32.938    0.000 {pandas.lib.values_from_object}\n",
        "  4964613    4.963    0.000   20.964    0.000 C:\\Users\\LosT\\AppData\\Local\\Enthought\\Canopy32\\User\\lib\\site-packages\\pandas\\core\\series.py:990(get_values)\n",
        "  4979633    5.888    0.000   16.047    0.000 C:\\Users\\LosT\\AppData\\Local\\Enthought\\Canopy32\\User\\lib\\site-packages\\pandas\\core\\internals.py:3120(values)\n",
        "        1    1.812    1.812   13.748   13.748 tvdatainit_pd.py:67(read_channeldatas)\n",
        "  4979630    7.546    0.000   12.672    0.000 C:\\Users\\LosT\\AppData\\Local\\Enthought\\Canopy32\\User\\lib\\site-packages\\pandas\\core\\frame.py:1686(_getitem_column)\n",
        "  4964613   10.853    0.000   10.853    0.000 {method 'get_value' of 'pandas.index.IndexEngine' objects}\n",
        "15647/7850    0.103    0.000    7.909    0.001 C:\\Users\\LosT\\AppData\\Local\\Enthought\\Canopy32\\User\\lib\\site-packages\\pandas\\core\\indexing.py:94(__setitem__)\n",
        "  4996489    5.150    0.000    7.840    0.000 C:\\Users\\LosT\\AppData\\Local\\Enthought\\Canopy32\\User\\lib\\site-packages\\numpy\\core\\numeric.py:1810(isscalar)\n",
        "  4979645    6.853    0.000    7.601    0.000 C:\\Users\\LosT\\AppData\\Local\\Enthought\\Canopy32\\User\\lib\\site-packages\\pandas\\core\\index.py:687(__contains__)\n",
        "15647/7850    0.305    0.000    7.345    0.001 C:\\Users\\LosT\\AppData\\Local\\Enthought\\Canopy32\\User\\lib\\site-packages\\pandas\\core\\indexing.py:193(_setitem_with_indexer)\n",
        " 10502146    6.710    0.000    6.775    0.000 {isinstance}\n",
        "  4994648    3.799    0.000    5.380    0.000 C:\\Users\\LosT\\AppData\\Local\\Enthought\\Canopy32\\User\\lib\\site-packages\\pandas\\core\\internals.py:3041(_values)\n",
        "  4979630    4.181    0.000    5.126    0.000 C:\\Users\\LosT\\AppData\\Local\\Enthought\\Canopy32\\User\\lib\\site-packages\\pandas\\core\\generic.py:1047(_get_item_cache)\n",
        "\n",
        "\n"
       ]
      },
      {
       "metadata": {},
       "output_type": "pyout",
       "prompt_number": 3,
       "text": [
        "<pstats.Stats instance at 0x0280C878>"
       ]
      }
     ],
     "prompt_number": 3
    },
    {
     "cell_type": "code",
     "collapsed": false,
     "input": [
      "#python \u6587\u4ef6\u8fd0\u884cprofile\uff0c\u5e76\u6536\u96c6 .prof\u6587\u4ef6\n",
      "!python -m cProfile  -o slow_functions2.prof tvdatainit_pd.py tvdatas/20140217_50k.csv"
     ],
     "language": "python",
     "metadata": {},
     "outputs": [
      {
       "output_type": "stream",
       "stream": "stdout",
       "text": [
        "Code started at time: 2014-11-13 15:42:29\n",
        "Read_channeldatas started at time: 2014-11-13 15:42:29\n",
        "Init_timelimit started at time: 2014-11-13 15:42:30\n",
        "Find_value_userdatas started at time: 2014-11-13 15:42:30\n",
        "Read_userdatas started at time: 2014-11-13 15:42:30\n",
        "Record_number_of_ads started at time: 2014-11-13 15:42:30\n",
        "debug: different_usernum= 5422\n",
        "debug: userad_call= 37161\n",
        "create_userad_table started at time: 2014-11-13 15:42:53\n",
        "Code ended at time: 2014-11-13 15:42:53\n",
        "Code dealing time is: 23 s\n"
       ]
      },
      {
       "output_type": "stream",
       "stream": "stderr",
       "text": [
        "C:\\Users\\LosT\\AppData\\Local\\Enthought\\Canopy32\\User\\lib\\site-packages\\pandas\\io\\excel.py:626: UserWarning: Installed openpyxl is not supported at this time. Use >=1.6.1 and <2.0.0.\n",
        "  .format(openpyxl_compat.start_ver, openpyxl_compat.stop_ver))\n"
       ]
      }
     ],
     "prompt_number": 4
    },
    {
     "cell_type": "code",
     "collapsed": false,
     "input": [
      "#\u6839\u636e .prof\u6587\u4ef6\u8fdb\u884c\u6392\u5e8f\u5206\u6790\n",
      "import pstats\n",
      "stats = pstats.Stats('slow_functions2.prof')\n",
      "# stats.print_stats()\n",
      "stats.sort_stats('cumulative').print_stats(20)  #\u663e\u793a\u8fd0\u884c\u6700\u8017\u65f6\u768420\u4e2a\u7a0b\u5e8f"
     ],
     "language": "python",
     "metadata": {},
     "outputs": [
      {
       "output_type": "stream",
       "stream": "stdout",
       "text": [
        "Thu Nov 13 15:42:53 2014    slow_functions2.prof\n",
        "\n",
        "         17090506 function calls (17077199 primitive calls) in 24.577 seconds\n",
        "\n",
        "   Ordered by: cumulative time\n",
        "   List reduced from 2323 to 20 due to restriction <20>\n",
        "\n",
        "   ncalls  tottime  percall  cumtime  percall filename:lineno(function)\n",
        "        1    0.011    0.011   24.579   24.579 tvdatainit_pd.py:4(<module>)\n",
        "        1    0.002    0.002   23.783   23.783 tvdatainit_pd.py:251(deal_file)\n",
        "        1    0.503    0.503   22.608   22.608 tvdatainit_pd.py:191(record_number_of_ads)\n",
        "    37161    1.860    0.000   17.658    0.000 tvdatainit_pd.py:151(valueable_ad)\n",
        "   754624    1.952    0.000   11.726    0.000 C:\\Users\\LosT\\AppData\\Local\\Enthought\\Canopy32\\User\\lib\\site-packages\\pandas\\core\\series.py:477(__getitem__)\n",
        "   754624    1.809    0.000    8.604    0.000 C:\\Users\\LosT\\AppData\\Local\\Enthought\\Canopy32\\User\\lib\\site-packages\\pandas\\core\\index.py:1158(get_value)\n",
        "   759208    2.193    0.000    5.856    0.000 C:\\Users\\LosT\\AppData\\Local\\Enthought\\Canopy32\\User\\lib\\site-packages\\pandas\\core\\frame.py:1661(__getitem__)\n",
        "  1510505    1.788    0.000    4.994    0.000 {pandas.lib.values_from_object}\n",
        "   754624    0.756    0.000    3.206    0.000 C:\\Users\\LosT\\AppData\\Local\\Enthought\\Canopy32\\User\\lib\\site-packages\\pandas\\core\\series.py:990(get_values)\n",
        "   759211    0.898    0.000    2.465    0.000 C:\\Users\\LosT\\AppData\\Local\\Enthought\\Canopy32\\User\\lib\\site-packages\\pandas\\core\\internals.py:3120(values)\n",
        "   759208    1.140    0.000    1.919    0.000 C:\\Users\\LosT\\AppData\\Local\\Enthought\\Canopy32\\User\\lib\\site-packages\\pandas\\core\\frame.py:1686(_getitem_column)\n",
        "    37163    0.084    0.000    1.867    0.000 TimeDeal.py:24(userdata_timestr2int)\n",
        "    37981    0.069    0.000    1.762    0.000 {time.strptime}\n",
        "    37981    0.067    0.000    1.691    0.000 C:\\Users\\LosT\\AppData\\Local\\Enthought\\Canopy32\\App\\appdata\\canopy-1.4.1.1975.win-x86\\lib\\_strptime.py:466(_strptime_time)\n",
        "    37981    0.856    0.000    1.624    0.000 C:\\Users\\LosT\\AppData\\Local\\Enthought\\Canopy32\\App\\appdata\\canopy-1.4.1.1975.win-x86\\lib\\_strptime.py:295(_strptime)\n",
        "   754624    1.620    0.000    1.620    0.000 {method 'get_value' of 'pandas.index.IndexEngine' objects}\n",
        "   756305    0.774    0.000    1.178    0.000 C:\\Users\\LosT\\AppData\\Local\\Enthought\\Canopy32\\User\\lib\\site-packages\\numpy\\core\\numeric.py:1810(isscalar)\n",
        "   759223    1.043    0.000    1.155    0.000 C:\\Users\\LosT\\AppData\\Local\\Enthought\\Canopy32\\User\\lib\\site-packages\\pandas\\core\\index.py:687(__contains__)\n",
        "  1584490    1.028    0.000    1.031    0.000 {isinstance}\n",
        "        1    0.157    0.157    0.905    0.905 tvdatainit_pd.py:67(read_channeldatas)\n",
        "\n",
        "\n"
       ]
      },
      {
       "metadata": {},
       "output_type": "pyout",
       "prompt_number": 5,
       "text": [
        "<pstats.Stats instance at 0x026A6710>"
       ]
      }
     ],
     "prompt_number": 5
    },
    {
     "cell_type": "code",
     "collapsed": false,
     "input": [],
     "language": "python",
     "metadata": {},
     "outputs": []
    }
   ],
   "metadata": {}
  }
 ]
}