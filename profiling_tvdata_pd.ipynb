{
 "metadata": {
  "name": "",
  "signature": "sha256:31990c9599ccd24e0510e7b9fd8c5978c667c7365fe2a0b1ff30a50c8509b874"
 },
 "nbformat": 3,
 "nbformat_minor": 0,
 "worksheets": [
  {
   "cells": [
    {
     "cell_type": "markdown",
     "metadata": {},
     "source": [
      "Timing At the command line:\n",
      "Source: http://nbviewer.ipython.org/gist/jiffyclub/3062428\n",
      "\n",
      "\n",
      "Timing and Profiling in IPython Source: http://pynash.org/2013/03/06/timing-and-profiling.html"
     ]
    },
    {
     "cell_type": "code",
     "collapsed": false,
     "input": [
      "#\u4f7f\u7528 notebook %prun magic \u5750\u6027\u80fd\u5206\u6790\n",
      "from time import sleep\n",
      "def foo(): sleep(1)\n",
      "def bar(): sleep(2)\n",
      "def baz(): foo(), bar()\n",
      "    \n",
      "%prun baz()"
     ],
     "language": "python",
     "metadata": {},
     "outputs": [
      {
       "output_type": "stream",
       "stream": "stdout",
       "text": [
        " "
       ]
      }
     ],
     "prompt_number": 26
    },
    {
     "cell_type": "code",
     "collapsed": false,
     "input": [
      "#python \u6587\u4ef6\u8fd0\u884cprofile\uff0c\u5e76\u6536\u96c6 .prof\u6587\u4ef6\n",
      "!python -m cProfile  -o slow_functions.prof tvdatainit_pd.py tvdatas/20140217_50k.csv"
     ],
     "language": "python",
     "metadata": {},
     "outputs": [
      {
       "output_type": "stream",
       "stream": "stdout",
       "text": [
        "Code started at time: 2014-11-10 15:11:51\n",
        "Read_channeldatas started at time: 2014-11-10 15:11:51\n",
        "Find_value_userdatas started at time: 2014-11-10 15:11:52\n",
        "Read_userdatas started at time: 2014-11-10 15:11:52\n",
        "Record_number_of_ads started at time: 2014-11-10 15:11:52\n",
        "debug: different_usernum= 5422\n",
        "debug: userad_call= 37161\n",
        "create_userad_table started at time: 2014-11-10 15:12:05\n",
        "Code ended at time: 2014-11-10 15:12:05\n",
        "Code dealing time is: 14 s\n"
       ]
      },
      {
       "output_type": "stream",
       "stream": "stderr",
       "text": [
        "E:\\Profile\\canopy\\User\\lib\\site-packages\\pandas\\io\\excel.py:626: UserWarning: Installed openpyxl is not supported at this time. Use >=1.6.1 and <2.0.0.\n",
        "  .format(openpyxl_compat.start_ver, openpyxl_compat.stop_ver))\n"
       ]
      }
     ],
     "prompt_number": 23
    },
    {
     "cell_type": "code",
     "collapsed": false,
     "input": [],
     "language": "python",
     "metadata": {},
     "outputs": []
    },
    {
     "cell_type": "code",
     "collapsed": false,
     "input": [
      "#\u6839\u636e .prof\u6587\u4ef6\u8fdb\u884c\u6392\u5e8f\u5206\u6790\n",
      "import pstats\n",
      "stats = pstats.Stats('slow_functions.prof')\n",
      "# stats.print_stats()\n",
      "stats.sort_stats('cumulative').print_stats(20)  #\u663e\u793a\u8fd0\u884c\u6700\u8017\u65f6\u768420\u4e2a\u7a0b\u5e8f"
     ],
     "language": "python",
     "metadata": {},
     "outputs": [
      {
       "output_type": "stream",
       "stream": "stdout",
       "text": [
        "Mon Nov 10 15:12:05 2014    slow_functions.prof\n",
        "\n",
        "         13746599 function calls (13740864 primitive calls) in 14.481 seconds\n",
        "\n",
        "   Ordered by: cumulative time\n",
        "   List reduced from 2523 to 20 due to restriction <20>\n",
        "\n",
        "   ncalls  tottime  percall  cumtime  percall filename:lineno(function)\n",
        "        1    0.003    0.003   14.483   14.483 tvdatainit_pd.py:4(<module>)\n",
        "        1    0.001    0.001   14.077   14.077 tvdatainit_pd.py:228(deal_file)\n",
        "        1    0.477    0.477   13.645   13.645 tvdatainit_pd.py:169(record_number_of_ads)\n",
        "    37161    0.328    0.000    7.694    0.000 tvdatainit_pd.py:109(cut)\n",
        "   375270    2.960    0.000    6.112    0.000 E:\\Program\\Enthought\\Canopy\\App\\appdata\\canopy-1.4.1.1975.win-x86_64\\lib\\_strptime.py:295(_strptime)\n",
        "   111483    0.213    0.000    4.156    0.000 TimeDeal.py:9(str2seconds)\n",
        "    37161    0.661    0.000    4.021    0.000 tvdatainit_pd.py:128(valueable_ad)\n",
        "   222966    0.390    0.000    3.943    0.000 {built-in method strptime}\n",
        "   152304    0.148    0.000    2.810    0.000 {time.strptime}\n",
        "   152304    0.103    0.000    2.662    0.000 E:\\Program\\Enthought\\Canopy\\App\\appdata\\canopy-1.4.1.1975.win-x86_64\\lib\\_strptime.py:466(_strptime_time)\n",
        "   202957    0.333    0.000    2.258    0.000 E:\\Profile\\canopy\\User\\lib\\site-packages\\pandas\\core\\series.py:477(__getitem__)\n",
        "   375272    0.188    0.000    2.223    0.000 E:\\Program\\Enthought\\Canopy\\App\\appdata\\canopy-1.4.1.1975.win-x86_64\\lib\\_strptime.py:27(_getlang)\n",
        "   375274    0.252    0.000    2.036    0.000 E:\\Program\\Enthought\\Canopy\\App\\appdata\\canopy-1.4.1.1975.win-x86_64\\lib\\locale.py:514(getlocale)\n",
        "   202957    0.287    0.000    1.614    0.000 E:\\Profile\\canopy\\User\\lib\\site-packages\\pandas\\core\\index.py:1158(get_value)\n",
        "    37161    0.107    0.000    1.559    0.000 TimeDeal.py:19(get_weekday)\n",
        "    37161    0.103    0.000    1.549    0.000 TimeDeal.py:30(get_time)\n",
        "   375274    0.205    0.000    1.469    0.000 E:\\Program\\Enthought\\Canopy\\App\\appdata\\canopy-1.4.1.1975.win-x86_64\\lib\\locale.py:415(_parse_localename)\n",
        "   375399    0.850    0.000    1.265    0.000 E:\\Program\\Enthought\\Canopy\\App\\appdata\\canopy-1.4.1.1975.win-x86_64\\lib\\locale.py:347(normalize)\n",
        "   203881    0.396    0.000    1.033    0.000 E:\\Profile\\canopy\\User\\lib\\site-packages\\pandas\\core\\frame.py:1661(__getitem__)\n",
        "   406612    0.282    0.000    0.838    0.000 {pandas.lib.values_from_object}\n",
        "\n",
        "\n"
       ]
      },
      {
       "metadata": {},
       "output_type": "pyout",
       "prompt_number": 1,
       "text": [
        "<pstats.Stats instance at 0x0000000003CF8348>"
       ]
      }
     ],
     "prompt_number": 1
    },
    {
     "cell_type": "code",
     "collapsed": false,
     "input": [],
     "language": "python",
     "metadata": {},
     "outputs": []
    }
   ],
   "metadata": {}
  }
 ]
}